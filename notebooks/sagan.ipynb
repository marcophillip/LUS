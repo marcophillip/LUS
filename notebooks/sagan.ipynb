{
 "cells": [
  {
   "cell_type": "code",
   "execution_count": null,
   "id": "33e413c8",
   "metadata": {},
   "outputs": [],
   "source": [
    "import matplotlib.pyplot as plt\n",
    "import seaborn as sn\n",
    "import pandas as pd\n",
    "import os\n",
    "import cv2\n",
    "import numpy as np\n",
    "from sklearn.preprocessing import MultiLabelBinarizer"
   ]
  },
  {
   "cell_type": "code",
   "execution_count": null,
   "id": "6cb1de72",
   "metadata": {},
   "outputs": [],
   "source": [
    "%cd ~/Covid19-LUS/Combined"
   ]
  },
  {
   "cell_type": "code",
   "execution_count": null,
   "id": "46cbf3b6",
   "metadata": {},
   "outputs": [],
   "source": [
    "data = dict()\n",
    "data['image_name'] = []\n",
    "data['labels'] = []\n",
    "data['image_path'] = []\n",
    "\n",
    "for label in os.listdir():\n",
    "    for image in os.listdir(label):\n",
    "        data['image_name'].append(image)\n",
    "\n",
    "    for _ in range(len(os.listdir(label))):\n",
    "        data['labels'].append(label)\n",
    "\n",
    "    for path in os.listdir(label):\n",
    "        data['image_path'].append(label+'/'+path)"
   ]
  },
  {
   "cell_type": "code",
   "execution_count": null,
   "id": "2045780d",
   "metadata": {},
   "outputs": [],
   "source": [
    "df = pd.DataFrame(data)"
   ]
  },
  {
   "cell_type": "code",
   "execution_count": null,
   "id": "2d2f3081",
   "metadata": {},
   "outputs": [],
   "source": [
    "def rename_labels1(label):\n",
    "    if '-' in label:\n",
    "        label=label.replace('-','')\n",
    "    if '_' in label:\n",
    "        label=label.replace('_','')\n",
    "    if ' ' in label:\n",
    "        label = label.replace(' ','')\n",
    "\n",
    "    return label.lower()\n",
    "\n",
    "def rename_labels2(label):\n",
    "    if 'ablines' in label:\n",
    "        label =label.replace('ablines','alines,blines')\n",
    "    if 'a,blines' in label:\n",
    "        label =label.replace('a,blines','alines,blines')\n",
    "    if 'consolidations' in label:\n",
    "        label = label.replace('consolidations','consolidation')\n",
    "    \n",
    "    return label\n",
    "\n",
    "\n",
    "def combine_f(label):\n",
    "    x = rename_labels1(label)\n",
    "    x = rename_labels2(x)\n",
    "    x =  x.split(',')\n",
    "    return x"
   ]
  },
  {
   "cell_type": "code",
   "execution_count": null,
   "id": "a0e986eb",
   "metadata": {},
   "outputs": [],
   "source": [
    "df['pre_labels']=df.labels.apply(combine_f)"
   ]
  },
  {
   "cell_type": "code",
   "execution_count": null,
   "id": "697e9db9",
   "metadata": {},
   "outputs": [],
   "source": [
    "mlb = MultiLabelBinarizer()\n",
    "binarized = mlb.fit_transform(df.pre_labels)"
   ]
  },
  {
   "cell_type": "code",
   "execution_count": null,
   "id": "336bc069",
   "metadata": {},
   "outputs": [],
   "source": [
    "df[mlb.classes_] = binarized"
   ]
  },
  {
   "cell_type": "code",
   "execution_count": null,
   "id": "42cf3e5d",
   "metadata": {},
   "outputs": [],
   "source": [
    "df[df['blines']==1].drop(['consolidation','effusion'],axis=1)"
   ]
  },
  {
   "cell_type": "code",
   "execution_count": null,
   "id": "bdbe6216",
   "metadata": {},
   "outputs": [],
   "source": [
    "df[df['alines']==1].drop(['consolidation','effusion'],axis=1)"
   ]
  },
  {
   "cell_type": "code",
   "execution_count": null,
   "id": "a6eb95b6",
   "metadata": {},
   "outputs": [],
   "source": [
    "import sklearn\n",
    "dataframe=pd.concat([df[df['blines']==1].drop(['consolidation','effusion'],axis=1),\n",
    "          df[df['alines']==1].drop(['consolidation','effusion'],axis=1)\n",
    "])\n",
    "dataframe = sklearn.utils.shuffle(dataframe)"
   ]
  },
  {
   "cell_type": "code",
   "execution_count": null,
   "id": "908a26b8",
   "metadata": {},
   "outputs": [],
   "source": [
    "import matplotlib.pyplot as plt\n",
    "import tensorflow as tf\n",
    "from  tensorflow_addons.layers import SpectralNormalization as sn\n",
    "from tensorflow import keras\n",
    "from tensorflow.keras import layers\n",
    "from IPython.display import clear_output\n",
    "from tensorflow.keras.layers import *"
   ]
  },
  {
   "cell_type": "code",
   "execution_count": null,
   "id": "ebb4fea6",
   "metadata": {},
   "outputs": [],
   "source": []
  }
 ],
 "metadata": {
  "kernelspec": {
   "display_name": "Python 3 (ipykernel)",
   "language": "python",
   "name": "python3"
  },
  "language_info": {
   "codemirror_mode": {
    "name": "ipython",
    "version": 3
   },
   "file_extension": ".py",
   "mimetype": "text/x-python",
   "name": "python",
   "nbconvert_exporter": "python",
   "pygments_lexer": "ipython3",
   "version": "3.9.7"
  }
 },
 "nbformat": 4,
 "nbformat_minor": 5
}
